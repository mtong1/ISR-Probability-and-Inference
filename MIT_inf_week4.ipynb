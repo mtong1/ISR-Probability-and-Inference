{
 "cells": [
  {
   "cell_type": "code",
   "execution_count": 1,
   "metadata": {},
   "outputs": [],
   "source": [
    "import matplotlib.pyplot as plt\n",
    "import numpy as np "
   ]
  },
  {
   "cell_type": "markdown",
   "metadata": {},
   "source": [
    "### Decision Making and Expectations\n",
    "\n",
    "- expectation of something is about identifying average quantifiable scenario for a given event that accounts for randomness \n",
    "    - aka taking the average, also given the probability of each outcome\n",
    "    - note that it is expected that the outcomes of random variables you find the expectation for are numerical values and not something like \"rainy\" (cuz how do you sum that??)\n",
    "\n",
    "- expected value of random variable: taking sum of outcomes of probability table, where we multiply each by the weights \n",
    "- formally: $E[X] \\triangleq \\sum_{x \\epsilon X} x*p_x(x) $\n",
    "\n",
    "- Other ways to compute expectation\n",
    "1. Conditional Expectation\n",
    " - if we have X and Y where we know $P_{X|Y}(.|y)$ where y is a fixed value and X is real-valued\n",
    " - can compute by: multiplying all x values by $p_{X|Y}(x|y)$ and summing them \n",
    " - denotation: $E[X|Y=y] = \\sum_{x \\epsilon X} x*P_{X|Y}(x|y)$\n",
    "\n",
    " 2. Expectation of the Function of a Random Variable \n",
    " - given Z = f(X), we can say $p_z$ is the probability table for f(X)\n",
    "    - can compute $p_Z(z)$ by looking at every label in table p_X that gets mapped to z: $ {x \\epsilon X : f(x) = z}$\n",
    "    - then sum those up \n",
    "\n",
    "    - indicator function: takes as input a statement S and outputs \n",
    "    ex: $ 1{S} = {1 if S happens, 0 otherwise} $\n",
    "    using this, we can find probability of Z = z \n",
    "\n",
    "     $ p_Z(z) = \\sum_{x \\epsilon X such that f(x)=z} p_X(x)$ OR $ \\sum_{x \\epsilon X} 1{f(x)=z}p_X(x) $\n",
    "\n",
    "    - expectation: $E[f(X)] = \\sum_x f(x) p_X(x)$\n",
    "    - for multiple random variables: $\\sum_{x \\epsilon X, y \\epsilon Y} f(x,y)p_{X|Y}(x,y)$\n",
    "    - $E[X+Y] = \\sum_{x \\epsilon X, y \\epsilon Y} (x+y)p_{X|Y}(x,y)$\n",
    "\n",
    " QUESTION: go over functions of random variables?\n",
    "\n",
    " ### Variance / Standard Deviation\n",
    "\n",
    "- variance def: measure of how much a random variable deviates from its expectation (or uncertainty)\n",
    "    - high variance = high uncertainty \n",
    " variance of random variable: $var(X) \\triangleq E[(X-E[X])^2] = E[X^2] - (E[X])^2$\n",
    " - computing it requires combo of expectation and functions, since E(x-e(x)^2) is a function \n",
    " - units = og units ^2\n",
    " - can never be negative since real nums are nonneg, and ur taking the avg of the squared quantities\n",
    "\n",
    " QUESTION: by the def of std given, does that mean std is like uncertainty but in terms of the original units \n",
    "\n",
    "std of random variable: $std(X) \\triangleq \\sqrt{var(X)}$\n",
    "\n",
    "#### Combining Conditional/Function Expectation\n",
    "\n",
    "- given we know $P_{X|Y}(.|y)$ for X and Y and a function f, $$E[f(X)|Y = y] = \\sum_x f(x) p_{X|Y}(x|y)$$\n",
    "\n",
    "- can be used to form cost functions, where we figure out the \"weight\" or \"cost\" of a decision based on outcome given another outcome \n",
    "- ex: in the medical diagnosis (pos/neg), the cost of treating someone who is pos but healthy vs someone who is pos but infected \n",
    "\n",
    "\n",
    "indicator random variable: \"indicates\" if an event happens \n",
    "denoted as 1(.), 1(S) = {1 if S happens, 0 otherwise}\n",
    "\n",
    "- linearity of expectation: equality that $E[X+Y] = E[X] + E[Y]$\n",
    "    - holds regardless if X and Y independent \n",
    "\n",
    "QUETSION: derivation of var(X+Y) = var(X) + var(Y)\n",
    "\n"
   ]
  },
  {
   "cell_type": "markdown",
   "metadata": {},
   "source": [
    "### Law of Total Expectation \n",
    "\n",
    "- uses the same principle as law of total probability, but with expectation \n",
    "\n",
    "$$ E[X] = \\sum_{i=1}^n E[X | B_i] P(B_i)$$\n",
    "where \n",
    "$$E[X|B_i] = \\sum_{x \\epsilon X}xp_{X|B_i}(x) = \\sum_{x \\epsilon X} x \\frac{P(X=x,B_i)}{P(B_i)}$$"
   ]
  },
  {
   "cell_type": "markdown",
   "metadata": {},
   "source": [
    "### Information-Theoretic Measures of Randomness \n",
    "\n",
    "- can use information theory to measure uncertainty or randomness \n",
    "\n",
    "### Shannon Information Content \n",
    "- aka self-information\n",
    "- number of bits necessary to store an event A, given that we don't know which outcome it will be (each outcome may take a diff amt of bits )\n",
    "    - could also be thought of as how surprised we would be to observe an event \n",
    "    - could be a fractional value of bits, since its essentially an avg given the probability of multiple outcomes possibly occurring \n",
    "- denoted by: $log_2{1/P(A)}$\n",
    "\n",
    "- ex: given $x \\epsilon {0,1,...63}$, SIC of observing x is $log_2\\frac{1}{P(integer is x)} = log_2 \\frac{1}{1/64} = log_2 64 = 6$ bits\n",
    "\n",
    "- if the outcome was always 1 value (lets say outcome was always 0) then the probability is always 1 and so: $$log_@ \\frac{1}{int = 0} = log_2 1/1 = o bits $$\n",
    "because the info is not new\n",
    "\n",
    "- however for same situation, observing 1-63 would be inf bits bc $log_2 1/0$ where 0 is the probability of observing 1-63, since its impossible \n",
    "\n",
    "- sum of all shannon info contents of an event (yes we saw it this time, no we didnt see it this round) is telescoping; it tells us that before we know the actual value, we need this certain amount of bits and the more guesses we have gives us only a miniscule amount more of bits of info that make it sum up to around the same bits of info still \n",
    "\n",
    "\n",
    "### Shannon Entropy \n",
    "\n",
    "- the number of bits contained in a random variable, as opposed to an event (one level lower) \n",
    "    - found by taking expectation of shannon info content across ALL possible outcomes of the variable AKA entropy of random variable \n",
    "\n",
    "$$ H(X) = \\sum_x p_X(x)*log_2 \\frac{1}{p_X(x)}$$ \n",
    "- H(X) is the average number of bits needed to encode each sample of a random variable X \n",
    "- note that the above equation is in the form of an expectation, so we can represent H(X) by \n",
    "$$ H(X) = E[log_2 \\frac{1}{p_X(X)}]$$\n",
    "\n",
    "- note that entropy of a random variable doesn't change if you switch the labels of the probabilities (switching biased coin from 3/4 heads to 3/4 tails favor still yields same overall entropy)"
   ]
  },
  {
   "cell_type": "code",
   "execution_count": 2,
   "metadata": {},
   "outputs": [
    {
     "name": "stderr",
     "output_type": "stream",
     "text": [
      "/tmp/ipykernel_98985/30325630.py:2: RuntimeWarning: divide by zero encountered in divide\n",
      "  entropy = lambda p: np.sum(p * np.log2(1/p)) # where p is a 1d array of probabilities\n",
      "/tmp/ipykernel_98985/30325630.py:2: RuntimeWarning: invalid value encountered in multiply\n",
      "  entropy = lambda p: np.sum(p * np.log2(1/p)) # where p is a 1d array of probabilities\n"
     ]
    },
    {
     "data": {
      "image/png": "[encoded data removed]",
      "text/plain": [
       "<Figure size 640x480 with 1 Axes>"
      ]
     },
     "metadata": {},
     "output_type": "display_data"
    }
   ],
   "source": [
    "# Code to compute entropy \n",
    "entropy = lambda p: np.sum(p * np.log2(1/p)) # where p is a 1d array of probabilities \n",
    "\n",
    "# this commented out function is equivalent to the line above \n",
    "# # def entropy(p):\n",
    "# #     return np.sum(p * np.log2(1 / p))\n",
    "\n",
    "# computing examples from exercise \n",
    "entropy_L1 = entropy(np.array([999999/1000000, 1/1000000]))\n",
    "entropy_L2 = entropy(np.array([999999/1000000, 1/1000000]))\n",
    "entropy_L3 = entropy(np.array([9/10, 1/10]))\n",
    "\n",
    "# exercise: plotting entropy to find maximized entropy given p \n",
    "p_list = np.linspace(0, 1, 50)\n",
    "p_list = np.linspace(0, 1, 50)\n",
    "plt.figure()\n",
    "plt.plot(p_list,\n",
    "         [entropy(np.array([p, 1-p])) for p in p_list])\n",
    "plt.xlabel('p')\n",
    "plt.ylabel('H(Ber(p))')\n",
    "plt.show()\n",
    "\n",
    "# note when printed, that the max happesn when p = 1/2, corresponding to a uniform distribution on the two possible values "
   ]
  },
  {
   "cell_type": "markdown",
   "metadata": {},
   "source": [
    "### Information Divergence\n",
    "\n",
    "- Kullback-Leibler divergence/ K divergence/ relative entropy \n",
    "- measures how different two distributions p and q are (over same alphabet)\n",
    "    - (alphabet refers to set of values ex: tails or heads would be an alphabet)\n",
    "- also what is a sample of p or sample of the random variable mean exactly?\n",
    "\n",
    "- new notation\n",
    "$$ \\sum_x p(x) log_2 1/p(x) \\triangleq E_{X~p} [log_2 1/p(X)]$$\n",
    "- E_X~p means we are taking expectation with respect to random var X drawn from distribution p \n",
    "alternative ex: finding info content according to distrib q BUT still sampling from p (encoding samples as if it were from q distrib)\n",
    "$$ \\sum_x p(x) log_2 1/q(x) \\triangleq E_{X~p} [log_2 1/q(X)]$$\n",
    "\n",
    "information divergence is what you pay in bits for trying to encode a sample from p using info content acc to q instead of p \n",
    "- is always $\\geq 0$ \n",
    "- if equal to 0, p and q are same distribution (p(x) = q(x) for all x) aka $\\textbf{Gibb's inequality}$\n",
    "$$D(p||q) = E_{X~p}[log_2 1/q(X)] - E_{X~p}[log_2 1/p(X)]$$\n",
    "- is not symmetric; D(p||q) != D(q||p)\n",
    "- another valid equation for info divergence: \n",
    "$$ D(p||q) = \\sum_x p(x) log \\frac{p(x)}{q(x)}$$\n",
    "\n",
    "QUESTION going over the D(px || pu) exercise why does kpx(x) become log2 k + \\sum etc ?"
   ]
  },
  {
   "cell_type": "markdown",
   "metadata": {},
   "source": [
    "### Mutual Information \n",
    "\n",
    "- given two discrete random variables X and Y, mutual info denoted by I(X;Y)\n",
    "- measures how much information they share \n",
    "    - how far X and Y are from being independent (I(X;Y) = 0 if they are actually indep)\n",
    "$$I(X;Y) \\triangleq D(p_{X,Y} || p_Xp_Y)$$\n",
    "\n",
    "- pxpy is distribution if X and Y were actually independent \n",
    "\n",
    "- if X = Y, they would share the most possible amt of information \n",
    "\n"
   ]
  },
  {
   "cell_type": "code",
   "execution_count": null,
   "metadata": {},
   "outputs": [],
   "source": [
    "# mutual information code \n",
    "joint_prob_XY = np.array([[0.10, 0.09, 0.11], [0.08, 0.07, 0.07], [0.18, 0.13, 0.17]])\n",
    "\n",
    "#marginal distributions px and py \n",
    "prob_X = joint_prob_XY.sum(axis=1)\n",
    "prob_Y = joint_prob_XY.sum(axis=0)\n",
    "\n",
    "# joint prob if X and Y were indep\n",
    "joint_prob_XY_indep = np.outer(prob_X, prob_Y)\n",
    "\n",
    "# finding info divergnece of \n",
    "info_divergence = lambda p, q: np.sum(p * np.log2(p / q))\n",
    "\n",
    "# the following is the same as above line \n",
    "# # def info_divergence(p, q):\n",
    "# #     return np.sum(p * np.log2(p / q))\n",
    "\n",
    "# computes I(X;Y)\n",
    "mutual_info_XY = info_divergence(joint_prob_XY, joint_prob_XY_indep)"
   ]
  },
  {
   "cell_type": "markdown",
   "metadata": {},
   "source": [
    "### Infinite Outcomes \n",
    "\n",
    "- how to represent outcomes with an experiment where there may be an arbitrary amt of rounds (ex: flipping coin till we see heads, could go on forever?)\n",
    "- geometric distribution: example of distribut w infinite alphabet \n",
    "    - prob distrib that models # of trials required to achieve first success (ex: flip coin until your first heads, could go on forever hypothetically?)\n",
    "    - called geometric bc of geometric decay as x is increased \n",
    "    - assumptions: \n",
    "    1. trials are independent \n",
    "    2. only two outcomes (so is bernoulli)\n",
    "    3. success probability is same each trial \n",
    "- can have indefinite num of trials \n",
    "- can represent the desired question as a random variable (ex: X = # tosses until heads shows)\n",
    "\n",
    "- X ~ Geo(p) where x increases \n",
    "\n",
    "$p_x(x) = (1-p)^{x-1}p $ for x = 1,2,...\n",
    "\n",
    "QUESTION confusion on geometric distribution \n",
    "\n",
    "\n",
    "### Expectation of Geometric Distribution\n",
    "- since partition of sample space is undefined/inf \n",
    "$$E[X] = \\sum_{i=1}^n E[X |B_i] P(B_i)$$\n",
    "and \n",
    "$$E[X|B_i] = \\sum_{x \\epsilon X} xp_{X|B_i}(x) = \\sum_{x \\epsilon X} x \\frac{P(X = x,B_i)}{P(B_i)}$$\n",
    "\n"
   ]
  },
  {
   "cell_type": "markdown",
   "metadata": {},
   "source": [
    "### Discrete Probability Spaces and Random Variables \n",
    "\n",
    "- sample space for geometric distributions can be considered \"countably infinite\" \n",
    "    - inf number of entries \n",
    "\n",
    "- discrete probability space: $(\\Omega, P)$ like finite probability space but sample space $\\Omega$ is allowed to be finite or countably inf \n",
    "    - consists of finit/countably inf sample space \n",
    "    - assignment of probability P where for any outcome $\\omega \\epsilon \\Omega$ there is a $P(\\omega)$ with value at least 0 or at most 1 \n",
    "\n",
    "- discrete random variables: Given discrete probability space, is a rand var X that maps Omega to a set of values X"
   ]
  }
 ],
 "metadata": {
  "kernelspec": {
   "display_name": "Python 3",
   "language": "python",
   "name": "python3"
  },
  "language_info": {
   "codemirror_mode": {
    "name": "ipython",
    "version": 3
   },
   "file_extension": ".py",
   "mimetype": "text/x-python",
   "name": "python",
   "nbconvert_exporter": "python",
   "pygments_lexer": "ipython3",
   "version": "3.10.12"
  },
  "orig_nbformat": 4
 },
 "nbformat": 4,
 "nbformat_minor": 2
}
