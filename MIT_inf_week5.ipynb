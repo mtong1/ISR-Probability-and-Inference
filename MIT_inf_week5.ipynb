{
 "cells": [
  {
   "cell_type": "code",
   "execution_count": null,
   "metadata": {},
   "outputs": [],
   "source": [
    "### Week 5"
   ]
  },
  {
   "cell_type": "markdown",
   "metadata": {},
   "source": [
    "### Storing Jointly Distributed Random Variables\n",
    "\n",
    "Big O Notation: we say that a function f that depends on a variable n is O(g(n)) [big O of g of n] if there exists some minimum $n_0$ such that for all $n \\geq n_0$, $$f(n) \\leq c*g(n)$$ for some constant c > 0\n",
    "- we count the number of \"basic\" operations instead of the \"actual\" number of operations each time a person runs \n",
    "    - what matters is amt of storage is linear to ans (x: k, 2k, etc) \n",
    "\n",
    "- big O notation looks at upper bound for how fast function grows \n",
    "\n",
    "more terminology:\n",
    "- f(n) = O(1): f is constant w respect to n\n",
    "- f(n) = O(logn): f grows logarithmically respect to input n \n",
    "- f(n) = O(n): f grows linearly w n \n",
    "- f(n) = O(n^2): f grows quadratically in n \n",
    "- f(n) = O(b^n): for some const b>1, f grows exponentially in n "
   ]
  },
  {
   "cell_type": "markdown",
   "metadata": {},
   "source": [
    "### Graphical Models \n",
    "given indep ran variables X1 and X2, \n",
    "\n",
    "$p_{x1,x2}(x1,x2)=p_{x1}p_{x2}(x2)$ which graphically are represented as two separate circles (distributions) that are not connected\n",
    "- that is its graph form \n",
    "- in code, are stored separately since they have no real connection/influence on each other\n",
    "\n",
    "given rand variables X1 and X2 that we dont know if are indep or not, we work w their joint probability table OR use product rule \n",
    "- can be stored by:\n",
    "1. storing $p_{x1,x2}$, which is them jointly/dependent on each other \n",
    "2. store $p_{x1}$ and $p_{x2|x1}$, one indepndent table and one that depends on another variable \n",
    "3. store $p_{x2}$ and $p_{x1|x2}$, exact same as 2 but inverted varaibles \n",
    "\n",
    "- the similarity of all three methods are that all three include a table that depends on both x1 and x2\n",
    "    - when drawing graph, we have 2 circles still but we connect w a line to represent their dependency \n",
    "\n",
    "Markov chain: \n",
    "- given 3 rand variables x1, x2, and x3 w assumption that the joint prob table has factorization $p_{x1,x2,x3}(x1,x2,x3)=p_{x1}p_{x2|x1}(x2|x1)p_{x3,x2}(x3|x2)$\n",
    "\n",
    "QUESTION go over the math, unless not important? (last content section of week 5)\n",
    "\n",
    "general graphical model rules:\n",
    "- circles are nodes/verticles and represent a random variable \n",
    "- lines are called edges, represents possible dependence between 2 nodes (aka eq for prob distrib has factor that depends on both)\n",
    "\n",
    "terminology:\n",
    "node potential func(of node i): ${\\phi}_i$ depends only on rand var X_i\n",
    "pairwise potential fun (4nodei,j): ${\\psi}_{i,j}$ depends on rand var X_i, X_j\n",
    "- note that potential tables NEED nonneg entries but dont need to sum to 1 bc const Z will normalize \n",
    "    - Z can be determined based on # of rand variables present \n",
    "\n",
    "QUESTION solution to big o notation in last week 5 module (graphical models)\n",
    "QUESTION how to determine Z? \n",
    "QUESTION diff between phi/psi (potential funcs) and the prob distrib themselves\n",
    "- non-normalized \n",
    "- higher potential values are more probable  \n",
    "QUESTION for big O notation, how come we can consider the worst case run times as well?"
   ]
  },
  {
   "cell_type": "markdown",
   "metadata": {},
   "source": []
  }
 ],
 "metadata": {
  "language_info": {
   "name": "python"
  },
  "orig_nbformat": 4
 },
 "nbformat": 4,
 "nbformat_minor": 2
}
